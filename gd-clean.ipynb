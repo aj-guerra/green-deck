{
 "cells": [
  {
   "cell_type": "code",
   "execution_count": 4,
   "metadata": {},
   "outputs": [
    {
     "data": {
      "text/plain": [
       "Index(['Timestamp', 'Evaluator', 'Achillea millefolium (Yarrow)',\n",
       "       'Foliage Rating', 'Flowering Rating',\n",
       "       'Pest Tolerance/Disease Resistance Rating', 'Vigor Rating',\n",
       "       'Overall Appearance Rating', 'Asclepias speciosa (Showy Milkweed)',\n",
       "       'Foliage Rating.1', 'Flowering Rating.1',\n",
       "       'Pest Tolerance/Disease Resistance Rating.1', 'Vigor Rating.1',\n",
       "       'Overall Appearance Rating.1', 'Bouteloua', 'Foliage Rating.2',\n",
       "       'Flowering Rating.2', 'Pest Tolerance/Disease Resistance Rating.2',\n",
       "       'Vigor Rating.2', 'Overall Appearance Rating.2', 'Carex pansa',\n",
       "       'Foliage Rating.3', 'Flowering Rating.3',\n",
       "       'Pest Tolerance/Disease Resistance Rating.3', 'Vigor Rating.3',\n",
       "       'Overall Appearance Rating.3', 'Eriogonum umbellatum',\n",
       "       'Foliage Rating.4', 'Flowering Rating.4',\n",
       "       'Pest Tolerance/Disease Resistance Rating.4', 'Vigor Rating.4',\n",
       "       'Overall Appearance Rating.4', 'Eschscholzia californica',\n",
       "       'Foliage Rating.5', 'Flowering Rating.5',\n",
       "       'Pest Tolerance/Disease Resistance Rating.5', 'Vigor Rating.5',\n",
       "       'Overall Appearance Rating.5', 'Festuca californica',\n",
       "       'Foliage Rating.6', 'Flowering Rating.6',\n",
       "       'Pest Tolerance/Disease Resistance Rating.6', 'Vigor Rating.6',\n",
       "       'Overall Appearance Rating.6', 'Festuca idahoensis', 'Foliage Rating.7',\n",
       "       'Flowering Rating.7', 'Pest Tolerance/Disease Resistance Rating.7',\n",
       "       'Vigor Rating.7', 'Overall Appearance Rating.7', 'Mimulus bifidus',\n",
       "       'Foliage Rating.8', 'Flowering Rating.8',\n",
       "       'Pest Tolerance/Disease Resistance Rating.8', 'Vigor Rating.8',\n",
       "       'Overall Appearance Rating.8', 'Monardella villosa', 'Foliage Rating.9',\n",
       "       'Flowering Rating.9', 'Pest Tolerance/Disease Resistance Rating.9',\n",
       "       'Vigor Rating.9', 'Overall Appearance Rating.9',\n",
       "       'Penstemon 'Margarita BOP'', 'Foliage Rating.10', 'Flowering Rating.10',\n",
       "       'Pest Tolerance/Disease Resistance Rating.10', 'Vigor Rating.10',\n",
       "       'Overall Appearance Rating.10', 'Sisyrinchium bellum',\n",
       "       'Foliage Rating.11', 'Flowering Rating.11',\n",
       "       'Pest Tolerance/Disease Resistance Rating.11', 'Vigor Rating.11',\n",
       "       'Overall Appearance Rating.11'],\n",
       "      dtype='object')"
      ]
     },
     "execution_count": 4,
     "metadata": {},
     "output_type": "execute_result"
    }
   ],
   "source": [
    "import pandas as pd\n",
    "import numpy as np\n",
    "\n",
    "# Load the CSV into a DataFrame\n",
    "df = pd.read_csv('gd-evals-2.csv')\n",
    "\n",
    "# Identify columns containing \"Comments\" and drop them, plus additional 8 columns at end\n",
    "df_no_comments = df.drop(columns=[col for col in df.columns if 'Comments' in col])\n",
    "df_no_comments = df_no_comments.iloc[:,:-8]\n",
    "df_no_comments.columns"
   ]
  },
  {
   "cell_type": "code",
   "execution_count": 17,
   "metadata": {},
   "outputs": [
    {
     "ename": "SyntaxError",
     "evalue": "invalid syntax (837911348.py, line 5)",
     "output_type": "error",
     "traceback": [
      "\u001b[0;36m  Cell \u001b[0;32mIn[17], line 5\u001b[0;36m\u001b[0m\n\u001b[0;31m    return (parts[0][0] + (parts[1][0] if len(parts) > 1 else pass)).lower()\u001b[0m\n\u001b[0m                                                              ^\u001b[0m\n\u001b[0;31mSyntaxError\u001b[0m\u001b[0;31m:\u001b[0m invalid syntax\n"
     ]
    }
   ],
   "source": [
    "def get_abbreviation(species):\n",
    "    # Split by space and remove any common name in parentheses\n",
    "    parts = species.split(' ')[0:2]\n",
    "    # If there's a second part (species name), use its first letter. Otherwise, use the first letter of the genus twice.\n",
    "    return parts[0][0] + (parts[1][0] if len(parts) > 1 else \"\").lower()"
   ]
  },
  {
   "cell_type": "code",
   "execution_count": 14,
   "metadata": {},
   "outputs": [],
   "source": [
    "# Extract the plant species names\n",
    "plant_species_cols = [col for col in df_no_comments.columns if 'Rating' not in col and col not in ['Timestamp', 'Evaluator']]\n",
    "\n",
    "# List of rating categories\n",
    "rating_categories = ['Foliage', 'Flowering', 'Pest Tolerance/Disease Resistance', 'Vigor', 'Overall Appearance']\n",
    "\n",
    "# Container to store reshaped dataframes for each species\n",
    "dfs = []\n",
    "\n",
    "# Iterate through each plant species column and reshape\n",
    "for idx, species_col in enumerate(plant_species_cols):  # Exclude the last column since it's not a species name\n",
    "    # Extract columns for this species\n",
    "    subset_cols = df_no_comments.columns[idx*5 + 3: idx*5 + 8].tolist()\n",
    "    subset_df = df_no_comments[['Timestamp', 'Evaluator'] + subset_cols].copy()\n",
    "    \n",
    "    # Rename columns for melting\n",
    "    subset_df.columns = ['Timestamp', 'Evaluator', 'Foliage', 'Flowering', 'Pest Tolerance/Disease Resistance', 'Vigor', 'Overall Appearance']\n",
    "    \n",
    "    # Melt dataframe\n",
    "    melted_df = pd.melt(subset_df, id_vars=['Timestamp', 'Evaluator'], value_vars=rating_categories, var_name='Rating Category', value_name='Rating')\n",
    "    \n",
    "    # Add species name\n",
    "    melted_df['Species'] = species_col\n",
    "    \n",
    "    # Append to adjusted_dfs\n",
    "    dfs.append(melted_df)\n",
    "\n",
    "# Combine all reshaped dataframes\n",
    "adjusted_final_df = pd.concat(dfs, ignore_index=True)\n",
    "\n",
    "# Reorder columns\n",
    "adjusted_final_df = adjusted_final_df[['Timestamp', 'Evaluator', 'Species', 'Rating Category', 'Rating']]\n",
    "\n",
    "abbreviations = np.vectorize(get_abbreviation)(adjusted_final_df['Species'])\n",
    "\n",
    "adjusted_final_df['Species'] = abbreviations\n",
    "\n",
    "adjusted_final_df.to_csv('gd-evals-clean-2.csv')"
   ]
  },
  {
   "cell_type": "code",
   "execution_count": 15,
   "metadata": {},
   "outputs": [
    {
     "data": {
      "text/plain": [
       "array(['am', 'am', 'am', ..., 'sb', 'sb', 'sb'], dtype='<U10')"
      ]
     },
     "execution_count": 15,
     "metadata": {},
     "output_type": "execute_result"
    }
   ],
   "source": [
    "abbreviations"
   ]
  }
 ],
 "metadata": {
  "kernelspec": {
   "display_name": "base",
   "language": "python",
   "name": "python3"
  },
  "language_info": {
   "codemirror_mode": {
    "name": "ipython",
    "version": 3
   },
   "file_extension": ".py",
   "mimetype": "text/x-python",
   "name": "python",
   "nbconvert_exporter": "python",
   "pygments_lexer": "ipython3",
   "version": "3.11.5"
  },
  "orig_nbformat": 4
 },
 "nbformat": 4,
 "nbformat_minor": 2
}
